{
 "cells": [
  {
   "attachments": {},
   "cell_type": "markdown",
   "metadata": {},
   "source": [
    "## Imports"
   ]
  },
  {
   "cell_type": "code",
   "execution_count": 3,
   "metadata": {},
   "outputs": [
    {
     "name": "stderr",
     "output_type": "stream",
     "text": [
      "2023-07-17 19:10:32.433052: I tensorflow/core/platform/cpu_feature_guard.cc:182] This TensorFlow binary is optimized to use available CPU instructions in performance-critical operations.\n",
      "To enable the following instructions: AVX2 FMA, in other operations, rebuild TensorFlow with the appropriate compiler flags.\n"
     ]
    }
   ],
   "source": [
    "import os\n",
    "from datetime import datetime\n",
    "import numpy as np\n",
    "import pandas as pd\n",
    "from keras.models import Sequential\n",
    "from keras.layers import LSTM, RNN, Dense, Activation, Dropout\n",
    "from keras.callbacks import EarlyStopping, ModelCheckpoint, ReduceLROnPlateau\n",
    "from dotenv import load_dotenv\n",
    "from sklearn.model_selection import train_test_split\n",
    "from sklearn.svm import SVR\n",
    "import matplotlib.pyplot as plt\n",
    "from ingestion import get_prediction_data, get_training_data\n",
    "from eth import get_crypto_data"
   ]
  },
  {
   "attachments": {},
   "cell_type": "markdown",
   "metadata": {},
   "source": [
    "## Extraction"
   ]
  },
  {
   "cell_type": "code",
   "execution_count": 4,
   "metadata": {},
   "outputs": [],
   "source": [
    "# Load Eth data\n",
    "load_dotenv()\n",
    "eth_prediction = get_prediction_data(auth_token=os.environ['api_key'])\n",
    "prediction_data = eth_prediction['data']\n",
    "\n",
    "eth_train = get_training_data(auth_token=os.environ['api_key'])\n",
    "train_data = eth_train['data']\n"
   ]
  },
  {
   "cell_type": "code",
   "execution_count": 5,
   "metadata": {},
   "outputs": [],
   "source": [
    "df = pd.DataFrame(train_data)\n",
    "prediction_df = pd.DataFrame(prediction_data)"
   ]
  },
  {
   "cell_type": "code",
   "execution_count": 32,
   "metadata": {},
   "outputs": [
    {
     "data": {
      "text/html": [
       "<div>\n",
       "<style scoped>\n",
       "    .dataframe tbody tr th:only-of-type {\n",
       "        vertical-align: middle;\n",
       "    }\n",
       "\n",
       "    .dataframe tbody tr th {\n",
       "        vertical-align: top;\n",
       "    }\n",
       "\n",
       "    .dataframe thead th {\n",
       "        text-align: right;\n",
       "    }\n",
       "</style>\n",
       "<table border=\"1\" class=\"dataframe\">\n",
       "  <thead>\n",
       "    <tr style=\"text-align: right;\">\n",
       "      <th></th>\n",
       "      <th>priceUsd</th>\n",
       "      <th>time</th>\n",
       "      <th>date</th>\n",
       "      <th>30_Day_Price_Forecast</th>\n",
       "    </tr>\n",
       "  </thead>\n",
       "  <tbody>\n",
       "    <tr>\n",
       "      <th>2016-03-15</th>\n",
       "      <td>12.67</td>\n",
       "      <td>1458000000000</td>\n",
       "      <td>2016-03-15</td>\n",
       "      <td>8.43</td>\n",
       "    </tr>\n",
       "    <tr>\n",
       "      <th>2016-03-16</th>\n",
       "      <td>13.23</td>\n",
       "      <td>1458086400000</td>\n",
       "      <td>2016-03-16</td>\n",
       "      <td>8.36</td>\n",
       "    </tr>\n",
       "    <tr>\n",
       "      <th>2016-03-17</th>\n",
       "      <td>11.52</td>\n",
       "      <td>1458172800000</td>\n",
       "      <td>2016-03-17</td>\n",
       "      <td>8.34</td>\n",
       "    </tr>\n",
       "    <tr>\n",
       "      <th>2016-03-18</th>\n",
       "      <td>10.01</td>\n",
       "      <td>1458259200000</td>\n",
       "      <td>2016-03-18</td>\n",
       "      <td>9.27</td>\n",
       "    </tr>\n",
       "    <tr>\n",
       "      <th>2016-03-19</th>\n",
       "      <td>10.57</td>\n",
       "      <td>1458345600000</td>\n",
       "      <td>2016-03-19</td>\n",
       "      <td>9.22</td>\n",
       "    </tr>\n",
       "    <tr>\n",
       "      <th>...</th>\n",
       "      <td>...</td>\n",
       "      <td>...</td>\n",
       "      <td>...</td>\n",
       "      <td>...</td>\n",
       "    </tr>\n",
       "    <tr>\n",
       "      <th>2023-06-12</th>\n",
       "      <td>1743.19</td>\n",
       "      <td>1686528000000</td>\n",
       "      <td>2023-06-12</td>\n",
       "      <td>NaN</td>\n",
       "    </tr>\n",
       "    <tr>\n",
       "      <th>2023-06-13</th>\n",
       "      <td>1745.28</td>\n",
       "      <td>1686614400000</td>\n",
       "      <td>2023-06-13</td>\n",
       "      <td>NaN</td>\n",
       "    </tr>\n",
       "    <tr>\n",
       "      <th>2023-06-14</th>\n",
       "      <td>1729.63</td>\n",
       "      <td>1686700800000</td>\n",
       "      <td>2023-06-14</td>\n",
       "      <td>NaN</td>\n",
       "    </tr>\n",
       "    <tr>\n",
       "      <th>2023-06-15</th>\n",
       "      <td>1649.11</td>\n",
       "      <td>1686787200000</td>\n",
       "      <td>2023-06-15</td>\n",
       "      <td>NaN</td>\n",
       "    </tr>\n",
       "    <tr>\n",
       "      <th>2023-06-16</th>\n",
       "      <td>1682.48</td>\n",
       "      <td>1686873600000</td>\n",
       "      <td>2023-06-16</td>\n",
       "      <td>NaN</td>\n",
       "    </tr>\n",
       "  </tbody>\n",
       "</table>\n",
       "<p>2646 rows × 4 columns</p>\n",
       "</div>"
      ],
      "text/plain": [
       "            priceUsd           time        date  30_Day_Price_Forecast\n",
       "2016-03-15     12.67  1458000000000  2016-03-15                   8.43\n",
       "2016-03-16     13.23  1458086400000  2016-03-16                   8.36\n",
       "2016-03-17     11.52  1458172800000  2016-03-17                   8.34\n",
       "2016-03-18     10.01  1458259200000  2016-03-18                   9.27\n",
       "2016-03-19     10.57  1458345600000  2016-03-19                   9.22\n",
       "...              ...            ...         ...                    ...\n",
       "2023-06-12   1743.19  1686528000000  2023-06-12                    NaN\n",
       "2023-06-13   1745.28  1686614400000  2023-06-13                    NaN\n",
       "2023-06-14   1729.63  1686700800000  2023-06-14                    NaN\n",
       "2023-06-15   1649.11  1686787200000  2023-06-15                    NaN\n",
       "2023-06-16   1682.48  1686873600000  2023-06-16                    NaN\n",
       "\n",
       "[2646 rows x 4 columns]"
      ]
     },
     "execution_count": 32,
     "metadata": {},
     "output_type": "execute_result"
    }
   ],
   "source": [
    "df"
   ]
  },
  {
   "cell_type": "code",
   "execution_count": 108,
   "metadata": {},
   "outputs": [],
   "source": [
    "# Save data as a csv file\n",
    "df.to_csv('eth_data.csv')"
   ]
  },
  {
   "cell_type": "code",
   "execution_count": 5,
   "metadata": {},
   "outputs": [
    {
     "data": {
      "text/html": [
       "<div>\n",
       "<style scoped>\n",
       "    .dataframe tbody tr th:only-of-type {\n",
       "        vertical-align: middle;\n",
       "    }\n",
       "\n",
       "    .dataframe tbody tr th {\n",
       "        vertical-align: top;\n",
       "    }\n",
       "\n",
       "    .dataframe thead th {\n",
       "        text-align: right;\n",
       "    }\n",
       "</style>\n",
       "<table border=\"1\" class=\"dataframe\">\n",
       "  <thead>\n",
       "    <tr style=\"text-align: right;\">\n",
       "      <th></th>\n",
       "      <th>priceUsd</th>\n",
       "      <th>time</th>\n",
       "      <th>date</th>\n",
       "    </tr>\n",
       "  </thead>\n",
       "  <tbody>\n",
       "    <tr>\n",
       "      <th>0</th>\n",
       "      <td>12.6667451588141313</td>\n",
       "      <td>1458000000000</td>\n",
       "      <td>2016-03-15T00:00:00.000Z</td>\n",
       "    </tr>\n",
       "    <tr>\n",
       "      <th>1</th>\n",
       "      <td>13.2297433153233983</td>\n",
       "      <td>1458086400000</td>\n",
       "      <td>2016-03-16T00:00:00.000Z</td>\n",
       "    </tr>\n",
       "    <tr>\n",
       "      <th>2</th>\n",
       "      <td>11.5231884589914778</td>\n",
       "      <td>1458172800000</td>\n",
       "      <td>2016-03-17T00:00:00.000Z</td>\n",
       "    </tr>\n",
       "    <tr>\n",
       "      <th>3</th>\n",
       "      <td>10.0101331519362793</td>\n",
       "      <td>1458259200000</td>\n",
       "      <td>2016-03-18T00:00:00.000Z</td>\n",
       "    </tr>\n",
       "    <tr>\n",
       "      <th>4</th>\n",
       "      <td>10.5683854304196001</td>\n",
       "      <td>1458345600000</td>\n",
       "      <td>2016-03-19T00:00:00.000Z</td>\n",
       "    </tr>\n",
       "    <tr>\n",
       "      <th>...</th>\n",
       "      <td>...</td>\n",
       "      <td>...</td>\n",
       "      <td>...</td>\n",
       "    </tr>\n",
       "    <tr>\n",
       "      <th>2631</th>\n",
       "      <td>1891.0288723674763130</td>\n",
       "      <td>1685664000000</td>\n",
       "      <td>2023-06-02T00:00:00.000Z</td>\n",
       "    </tr>\n",
       "    <tr>\n",
       "      <th>2632</th>\n",
       "      <td>1900.6522499510397829</td>\n",
       "      <td>1685750400000</td>\n",
       "      <td>2023-06-03T00:00:00.000Z</td>\n",
       "    </tr>\n",
       "    <tr>\n",
       "      <th>2633</th>\n",
       "      <td>1901.3326151072273861</td>\n",
       "      <td>1685836800000</td>\n",
       "      <td>2023-06-04T00:00:00.000Z</td>\n",
       "    </tr>\n",
       "    <tr>\n",
       "      <th>2634</th>\n",
       "      <td>1851.2790787657058775</td>\n",
       "      <td>1685923200000</td>\n",
       "      <td>2023-06-05T00:00:00.000Z</td>\n",
       "    </tr>\n",
       "    <tr>\n",
       "      <th>2635</th>\n",
       "      <td>1837.1353309001279180</td>\n",
       "      <td>1686009600000</td>\n",
       "      <td>2023-06-06T00:00:00.000Z</td>\n",
       "    </tr>\n",
       "  </tbody>\n",
       "</table>\n",
       "<p>2636 rows × 3 columns</p>\n",
       "</div>"
      ],
      "text/plain": [
       "                   priceUsd           time                      date\n",
       "0       12.6667451588141313  1458000000000  2016-03-15T00:00:00.000Z\n",
       "1       13.2297433153233983  1458086400000  2016-03-16T00:00:00.000Z\n",
       "2       11.5231884589914778  1458172800000  2016-03-17T00:00:00.000Z\n",
       "3       10.0101331519362793  1458259200000  2016-03-18T00:00:00.000Z\n",
       "4       10.5683854304196001  1458345600000  2016-03-19T00:00:00.000Z\n",
       "...                     ...            ...                       ...\n",
       "2631  1891.0288723674763130  1685664000000  2023-06-02T00:00:00.000Z\n",
       "2632  1900.6522499510397829  1685750400000  2023-06-03T00:00:00.000Z\n",
       "2633  1901.3326151072273861  1685836800000  2023-06-04T00:00:00.000Z\n",
       "2634  1851.2790787657058775  1685923200000  2023-06-05T00:00:00.000Z\n",
       "2635  1837.1353309001279180  1686009600000  2023-06-06T00:00:00.000Z\n",
       "\n",
       "[2636 rows x 3 columns]"
      ]
     },
     "execution_count": 5,
     "metadata": {},
     "output_type": "execute_result"
    }
   ],
   "source": [
    "df.head(-10)"
   ]
  },
  {
   "cell_type": "code",
   "execution_count": 6,
   "metadata": {},
   "outputs": [],
   "source": [
    "df['date'] = pd.to_datetime(df['date'])\n",
    "df['date'] = df['date'].dt.strftime(\"%Y-%m-%d\")"
   ]
  },
  {
   "cell_type": "code",
   "execution_count": 7,
   "metadata": {},
   "outputs": [],
   "source": [
    "prediction_df['date'] = pd.to_datetime(prediction_df['date'])\n",
    "prediction_df['date'] = prediction_df['date'].dt.strftime(\"%Y-%m-%d\")"
   ]
  },
  {
   "cell_type": "code",
   "execution_count": 8,
   "metadata": {},
   "outputs": [],
   "source": [
    "df['priceUsd'] = df['priceUsd'].astype(float)\n",
    "df['priceUsd'] = df['priceUsd'].round(2)"
   ]
  },
  {
   "cell_type": "code",
   "execution_count": 9,
   "metadata": {},
   "outputs": [],
   "source": [
    "prediction_df['priceUsd'] = prediction_df['priceUsd'].astype(float)\n",
    "prediction_df['priceUsd'] = prediction_df['priceUsd'].round(2)"
   ]
  },
  {
   "cell_type": "code",
   "execution_count": 10,
   "metadata": {},
   "outputs": [],
   "source": [
    "df = df.set_index(pd.DatetimeIndex(df['date'].values))"
   ]
  },
  {
   "cell_type": "code",
   "execution_count": 11,
   "metadata": {},
   "outputs": [],
   "source": [
    "prediction_df = prediction_df.set_index(pd.DatetimeIndex(prediction_df['date'].values))"
   ]
  },
  {
   "cell_type": "code",
   "execution_count": 12,
   "metadata": {},
   "outputs": [],
   "source": [
    "# Set Forecast  \n",
    "future_days = 30"
   ]
  },
  {
   "cell_type": "code",
   "execution_count": 13,
   "metadata": {},
   "outputs": [],
   "source": [
    "# New column for forecast price\n",
    "df[str(future_days)+'_Day_Price_Forecast'] = df[['priceUsd']].shift(-future_days)"
   ]
  },
  {
   "cell_type": "code",
   "execution_count": 14,
   "metadata": {},
   "outputs": [
    {
     "data": {
      "text/html": [
       "<div>\n",
       "<style scoped>\n",
       "    .dataframe tbody tr th:only-of-type {\n",
       "        vertical-align: middle;\n",
       "    }\n",
       "\n",
       "    .dataframe tbody tr th {\n",
       "        vertical-align: top;\n",
       "    }\n",
       "\n",
       "    .dataframe thead th {\n",
       "        text-align: right;\n",
       "    }\n",
       "</style>\n",
       "<table border=\"1\" class=\"dataframe\">\n",
       "  <thead>\n",
       "    <tr style=\"text-align: right;\">\n",
       "      <th></th>\n",
       "      <th>date</th>\n",
       "      <th>30_Day_Price_Forecast</th>\n",
       "    </tr>\n",
       "  </thead>\n",
       "  <tbody>\n",
       "    <tr>\n",
       "      <th>2016-03-15</th>\n",
       "      <td>2016-03-15</td>\n",
       "      <td>8.43</td>\n",
       "    </tr>\n",
       "    <tr>\n",
       "      <th>2016-03-16</th>\n",
       "      <td>2016-03-16</td>\n",
       "      <td>8.36</td>\n",
       "    </tr>\n",
       "    <tr>\n",
       "      <th>2016-03-17</th>\n",
       "      <td>2016-03-17</td>\n",
       "      <td>8.34</td>\n",
       "    </tr>\n",
       "    <tr>\n",
       "      <th>2016-03-18</th>\n",
       "      <td>2016-03-18</td>\n",
       "      <td>9.27</td>\n",
       "    </tr>\n",
       "    <tr>\n",
       "      <th>2016-03-19</th>\n",
       "      <td>2016-03-19</td>\n",
       "      <td>9.22</td>\n",
       "    </tr>\n",
       "    <tr>\n",
       "      <th>...</th>\n",
       "      <td>...</td>\n",
       "      <td>...</td>\n",
       "    </tr>\n",
       "    <tr>\n",
       "      <th>2023-06-12</th>\n",
       "      <td>2023-06-12</td>\n",
       "      <td>NaN</td>\n",
       "    </tr>\n",
       "    <tr>\n",
       "      <th>2023-06-13</th>\n",
       "      <td>2023-06-13</td>\n",
       "      <td>NaN</td>\n",
       "    </tr>\n",
       "    <tr>\n",
       "      <th>2023-06-14</th>\n",
       "      <td>2023-06-14</td>\n",
       "      <td>NaN</td>\n",
       "    </tr>\n",
       "    <tr>\n",
       "      <th>2023-06-15</th>\n",
       "      <td>2023-06-15</td>\n",
       "      <td>NaN</td>\n",
       "    </tr>\n",
       "    <tr>\n",
       "      <th>2023-06-16</th>\n",
       "      <td>2023-06-16</td>\n",
       "      <td>NaN</td>\n",
       "    </tr>\n",
       "  </tbody>\n",
       "</table>\n",
       "<p>2646 rows × 2 columns</p>\n",
       "</div>"
      ],
      "text/plain": [
       "                  date  30_Day_Price_Forecast\n",
       "2016-03-15  2016-03-15                   8.43\n",
       "2016-03-16  2016-03-16                   8.36\n",
       "2016-03-17  2016-03-17                   8.34\n",
       "2016-03-18  2016-03-18                   9.27\n",
       "2016-03-19  2016-03-19                   9.22\n",
       "...                ...                    ...\n",
       "2023-06-12  2023-06-12                    NaN\n",
       "2023-06-13  2023-06-13                    NaN\n",
       "2023-06-14  2023-06-14                    NaN\n",
       "2023-06-15  2023-06-15                    NaN\n",
       "2023-06-16  2023-06-16                    NaN\n",
       "\n",
       "[2646 rows x 2 columns]"
      ]
     },
     "execution_count": 14,
     "metadata": {},
     "output_type": "execute_result"
    }
   ],
   "source": [
    "df[['date',str(future_days)+'_Day_Price_Forecast']]"
   ]
  },
  {
   "cell_type": "code",
   "execution_count": 15,
   "metadata": {},
   "outputs": [],
   "source": [
    "# Independent dataset\n",
    "X = np.array(df[['priceUsd']])\n",
    "X = X[:df.shape[0] - future_days]"
   ]
  },
  {
   "cell_type": "code",
   "execution_count": 16,
   "metadata": {},
   "outputs": [],
   "source": [
    "X_pred = np.array(prediction_df[['priceUsd']])"
   ]
  },
  {
   "cell_type": "code",
   "execution_count": 17,
   "metadata": {},
   "outputs": [],
   "source": [
    "# Dependent dataset\n",
    "y = np.array(df[str(future_days)+'_Day_Price_Forecast'])\n",
    "y = y[:-future_days]"
   ]
  },
  {
   "cell_type": "code",
   "execution_count": 18,
   "metadata": {},
   "outputs": [],
   "source": [
    "# Split the data\n",
    "x_train, x_test, y_train, y_test = train_test_split(X, y, test_size= 0.2)"
   ]
  },
  {
   "cell_type": "code",
   "execution_count": 19,
   "metadata": {},
   "outputs": [
    {
     "data": {
      "text/html": [
       "<style>#sk-container-id-1 {color: black;background-color: white;}#sk-container-id-1 pre{padding: 0;}#sk-container-id-1 div.sk-toggleable {background-color: white;}#sk-container-id-1 label.sk-toggleable__label {cursor: pointer;display: block;width: 100%;margin-bottom: 0;padding: 0.3em;box-sizing: border-box;text-align: center;}#sk-container-id-1 label.sk-toggleable__label-arrow:before {content: \"▸\";float: left;margin-right: 0.25em;color: #696969;}#sk-container-id-1 label.sk-toggleable__label-arrow:hover:before {color: black;}#sk-container-id-1 div.sk-estimator:hover label.sk-toggleable__label-arrow:before {color: black;}#sk-container-id-1 div.sk-toggleable__content {max-height: 0;max-width: 0;overflow: hidden;text-align: left;background-color: #f0f8ff;}#sk-container-id-1 div.sk-toggleable__content pre {margin: 0.2em;color: black;border-radius: 0.25em;background-color: #f0f8ff;}#sk-container-id-1 input.sk-toggleable__control:checked~div.sk-toggleable__content {max-height: 200px;max-width: 100%;overflow: auto;}#sk-container-id-1 input.sk-toggleable__control:checked~label.sk-toggleable__label-arrow:before {content: \"▾\";}#sk-container-id-1 div.sk-estimator input.sk-toggleable__control:checked~label.sk-toggleable__label {background-color: #d4ebff;}#sk-container-id-1 div.sk-label input.sk-toggleable__control:checked~label.sk-toggleable__label {background-color: #d4ebff;}#sk-container-id-1 input.sk-hidden--visually {border: 0;clip: rect(1px 1px 1px 1px);clip: rect(1px, 1px, 1px, 1px);height: 1px;margin: -1px;overflow: hidden;padding: 0;position: absolute;width: 1px;}#sk-container-id-1 div.sk-estimator {font-family: monospace;background-color: #f0f8ff;border: 1px dotted black;border-radius: 0.25em;box-sizing: border-box;margin-bottom: 0.5em;}#sk-container-id-1 div.sk-estimator:hover {background-color: #d4ebff;}#sk-container-id-1 div.sk-parallel-item::after {content: \"\";width: 100%;border-bottom: 1px solid gray;flex-grow: 1;}#sk-container-id-1 div.sk-label:hover label.sk-toggleable__label {background-color: #d4ebff;}#sk-container-id-1 div.sk-serial::before {content: \"\";position: absolute;border-left: 1px solid gray;box-sizing: border-box;top: 0;bottom: 0;left: 50%;z-index: 0;}#sk-container-id-1 div.sk-serial {display: flex;flex-direction: column;align-items: center;background-color: white;padding-right: 0.2em;padding-left: 0.2em;position: relative;}#sk-container-id-1 div.sk-item {position: relative;z-index: 1;}#sk-container-id-1 div.sk-parallel {display: flex;align-items: stretch;justify-content: center;background-color: white;position: relative;}#sk-container-id-1 div.sk-item::before, #sk-container-id-1 div.sk-parallel-item::before {content: \"\";position: absolute;border-left: 1px solid gray;box-sizing: border-box;top: 0;bottom: 0;left: 50%;z-index: -1;}#sk-container-id-1 div.sk-parallel-item {display: flex;flex-direction: column;z-index: 1;position: relative;background-color: white;}#sk-container-id-1 div.sk-parallel-item:first-child::after {align-self: flex-end;width: 50%;}#sk-container-id-1 div.sk-parallel-item:last-child::after {align-self: flex-start;width: 50%;}#sk-container-id-1 div.sk-parallel-item:only-child::after {width: 0;}#sk-container-id-1 div.sk-dashed-wrapped {border: 1px dashed gray;margin: 0 0.4em 0.5em 0.4em;box-sizing: border-box;padding-bottom: 0.4em;background-color: white;}#sk-container-id-1 div.sk-label label {font-family: monospace;font-weight: bold;display: inline-block;line-height: 1.2em;}#sk-container-id-1 div.sk-label-container {text-align: center;}#sk-container-id-1 div.sk-container {/* jupyter's `normalize.less` sets `[hidden] { display: none; }` but bootstrap.min.css set `[hidden] { display: none !important; }` so we also need the `!important` here to be able to override the default hidden behavior on the sphinx rendered scikit-learn.org. See: https://github.com/scikit-learn/scikit-learn/issues/21755 */display: inline-block !important;position: relative;}#sk-container-id-1 div.sk-text-repr-fallback {display: none;}</style><div id=\"sk-container-id-1\" class=\"sk-top-container\"><div class=\"sk-text-repr-fallback\"><pre>SVR(C=1000.0, gamma=1e-05)</pre><b>In a Jupyter environment, please rerun this cell to show the HTML representation or trust the notebook. <br />On GitHub, the HTML representation is unable to render, please try loading this page with nbviewer.org.</b></div><div class=\"sk-container\" hidden><div class=\"sk-item\"><div class=\"sk-estimator sk-toggleable\"><input class=\"sk-toggleable__control sk-hidden--visually\" id=\"sk-estimator-id-1\" type=\"checkbox\" checked><label for=\"sk-estimator-id-1\" class=\"sk-toggleable__label sk-toggleable__label-arrow\">SVR</label><div class=\"sk-toggleable__content\"><pre>SVR(C=1000.0, gamma=1e-05)</pre></div></div></div></div></div>"
      ],
      "text/plain": [
       "SVR(C=1000.0, gamma=1e-05)"
      ]
     },
     "execution_count": 19,
     "metadata": {},
     "output_type": "execute_result"
    }
   ],
   "source": [
    "# Train SVR model\n",
    "svr_rbf = SVR(kernel='rbf', C=1e3, gamma= 0.00001)\n",
    "svr_rbf.fit(x_train, y_train)"
   ]
  },
  {
   "cell_type": "code",
   "execution_count": 20,
   "metadata": {},
   "outputs": [
    {
     "name": "stdout",
     "output_type": "stream",
     "text": [
      "svr_rbf accuracy: 0.9096970151359\n"
     ]
    }
   ],
   "source": [
    "# Predict on test samples\n",
    "svr_rbf_confidence = svr_rbf.score(x_test, y_test)\n",
    "print('svr_rbf accuracy:', svr_rbf_confidence)"
   ]
  },
  {
   "cell_type": "code",
   "execution_count": 21,
   "metadata": {},
   "outputs": [],
   "source": [
    "svm_prediction = svr_rbf.predict(x_test)"
   ]
  },
  {
   "cell_type": "code",
   "execution_count": 35,
   "metadata": {},
   "outputs": [
    {
     "data": {
      "text/html": [
       "<div>\n",
       "<style scoped>\n",
       "    .dataframe tbody tr th:only-of-type {\n",
       "        vertical-align: middle;\n",
       "    }\n",
       "\n",
       "    .dataframe tbody tr th {\n",
       "        vertical-align: top;\n",
       "    }\n",
       "\n",
       "    .dataframe thead th {\n",
       "        text-align: right;\n",
       "    }\n",
       "</style>\n",
       "<table border=\"1\" class=\"dataframe\">\n",
       "  <thead>\n",
       "    <tr style=\"text-align: right;\">\n",
       "      <th></th>\n",
       "      <th>priceUsd</th>\n",
       "      <th>time</th>\n",
       "      <th>date</th>\n",
       "    </tr>\n",
       "  </thead>\n",
       "  <tbody>\n",
       "    <tr>\n",
       "      <th>2023-06-17</th>\n",
       "      <td>1734.13</td>\n",
       "      <td>1686960000000</td>\n",
       "      <td>2023-06-17</td>\n",
       "    </tr>\n",
       "    <tr>\n",
       "      <th>2023-06-18</th>\n",
       "      <td>1736.90</td>\n",
       "      <td>1687046400000</td>\n",
       "      <td>2023-06-18</td>\n",
       "    </tr>\n",
       "    <tr>\n",
       "      <th>2023-06-19</th>\n",
       "      <td>1728.10</td>\n",
       "      <td>1687132800000</td>\n",
       "      <td>2023-06-19</td>\n",
       "    </tr>\n",
       "    <tr>\n",
       "      <th>2023-06-20</th>\n",
       "      <td>1745.05</td>\n",
       "      <td>1687219200000</td>\n",
       "      <td>2023-06-20</td>\n",
       "    </tr>\n",
       "    <tr>\n",
       "      <th>2023-06-21</th>\n",
       "      <td>1836.05</td>\n",
       "      <td>1687305600000</td>\n",
       "      <td>2023-06-21</td>\n",
       "    </tr>\n",
       "    <tr>\n",
       "      <th>2023-06-22</th>\n",
       "      <td>1896.39</td>\n",
       "      <td>1687392000000</td>\n",
       "      <td>2023-06-22</td>\n",
       "    </tr>\n",
       "    <tr>\n",
       "      <th>2023-06-23</th>\n",
       "      <td>1887.99</td>\n",
       "      <td>1687478400000</td>\n",
       "      <td>2023-06-23</td>\n",
       "    </tr>\n",
       "    <tr>\n",
       "      <th>2023-06-24</th>\n",
       "      <td>1888.94</td>\n",
       "      <td>1687564800000</td>\n",
       "      <td>2023-06-24</td>\n",
       "    </tr>\n",
       "    <tr>\n",
       "      <th>2023-06-25</th>\n",
       "      <td>1902.01</td>\n",
       "      <td>1687651200000</td>\n",
       "      <td>2023-06-25</td>\n",
       "    </tr>\n",
       "    <tr>\n",
       "      <th>2023-06-26</th>\n",
       "      <td>1876.42</td>\n",
       "      <td>1687737600000</td>\n",
       "      <td>2023-06-26</td>\n",
       "    </tr>\n",
       "    <tr>\n",
       "      <th>2023-06-27</th>\n",
       "      <td>1882.13</td>\n",
       "      <td>1687824000000</td>\n",
       "      <td>2023-06-27</td>\n",
       "    </tr>\n",
       "    <tr>\n",
       "      <th>2023-06-28</th>\n",
       "      <td>1856.97</td>\n",
       "      <td>1687910400000</td>\n",
       "      <td>2023-06-28</td>\n",
       "    </tr>\n",
       "    <tr>\n",
       "      <th>2023-06-29</th>\n",
       "      <td>1851.31</td>\n",
       "      <td>1687996800000</td>\n",
       "      <td>2023-06-29</td>\n",
       "    </tr>\n",
       "    <tr>\n",
       "      <th>2023-06-30</th>\n",
       "      <td>1890.38</td>\n",
       "      <td>1688083200000</td>\n",
       "      <td>2023-06-30</td>\n",
       "    </tr>\n",
       "    <tr>\n",
       "      <th>2023-07-01</th>\n",
       "      <td>1923.05</td>\n",
       "      <td>1688169600000</td>\n",
       "      <td>2023-07-01</td>\n",
       "    </tr>\n",
       "    <tr>\n",
       "      <th>2023-07-02</th>\n",
       "      <td>1920.81</td>\n",
       "      <td>1688256000000</td>\n",
       "      <td>2023-07-02</td>\n",
       "    </tr>\n",
       "    <tr>\n",
       "      <th>2023-07-03</th>\n",
       "      <td>1957.73</td>\n",
       "      <td>1688342400000</td>\n",
       "      <td>2023-07-03</td>\n",
       "    </tr>\n",
       "    <tr>\n",
       "      <th>2023-07-04</th>\n",
       "      <td>1952.77</td>\n",
       "      <td>1688428800000</td>\n",
       "      <td>2023-07-04</td>\n",
       "    </tr>\n",
       "    <tr>\n",
       "      <th>2023-07-05</th>\n",
       "      <td>1922.58</td>\n",
       "      <td>1688515200000</td>\n",
       "      <td>2023-07-05</td>\n",
       "    </tr>\n",
       "    <tr>\n",
       "      <th>2023-07-06</th>\n",
       "      <td>1904.61</td>\n",
       "      <td>1688601600000</td>\n",
       "      <td>2023-07-06</td>\n",
       "    </tr>\n",
       "    <tr>\n",
       "      <th>2023-07-07</th>\n",
       "      <td>1862.84</td>\n",
       "      <td>1688688000000</td>\n",
       "      <td>2023-07-07</td>\n",
       "    </tr>\n",
       "    <tr>\n",
       "      <th>2023-07-08</th>\n",
       "      <td>1863.94</td>\n",
       "      <td>1688774400000</td>\n",
       "      <td>2023-07-08</td>\n",
       "    </tr>\n",
       "    <tr>\n",
       "      <th>2023-07-09</th>\n",
       "      <td>1869.85</td>\n",
       "      <td>1688860800000</td>\n",
       "      <td>2023-07-09</td>\n",
       "    </tr>\n",
       "    <tr>\n",
       "      <th>2023-07-10</th>\n",
       "      <td>1868.81</td>\n",
       "      <td>1688947200000</td>\n",
       "      <td>2023-07-10</td>\n",
       "    </tr>\n",
       "    <tr>\n",
       "      <th>2023-07-11</th>\n",
       "      <td>1876.74</td>\n",
       "      <td>1689033600000</td>\n",
       "      <td>2023-07-11</td>\n",
       "    </tr>\n",
       "    <tr>\n",
       "      <th>2023-07-12</th>\n",
       "      <td>1884.46</td>\n",
       "      <td>1689120000000</td>\n",
       "      <td>2023-07-12</td>\n",
       "    </tr>\n",
       "    <tr>\n",
       "      <th>2023-07-13</th>\n",
       "      <td>1913.22</td>\n",
       "      <td>1689206400000</td>\n",
       "      <td>2023-07-13</td>\n",
       "    </tr>\n",
       "    <tr>\n",
       "      <th>2023-07-14</th>\n",
       "      <td>1982.11</td>\n",
       "      <td>1689292800000</td>\n",
       "      <td>2023-07-14</td>\n",
       "    </tr>\n",
       "    <tr>\n",
       "      <th>2023-07-15</th>\n",
       "      <td>1937.07</td>\n",
       "      <td>1689379200000</td>\n",
       "      <td>2023-07-15</td>\n",
       "    </tr>\n",
       "    <tr>\n",
       "      <th>2023-07-16</th>\n",
       "      <td>1934.23</td>\n",
       "      <td>1689465600000</td>\n",
       "      <td>2023-07-16</td>\n",
       "    </tr>\n",
       "  </tbody>\n",
       "</table>\n",
       "</div>"
      ],
      "text/plain": [
       "            priceUsd           time        date\n",
       "2023-06-17   1734.13  1686960000000  2023-06-17\n",
       "2023-06-18   1736.90  1687046400000  2023-06-18\n",
       "2023-06-19   1728.10  1687132800000  2023-06-19\n",
       "2023-06-20   1745.05  1687219200000  2023-06-20\n",
       "2023-06-21   1836.05  1687305600000  2023-06-21\n",
       "2023-06-22   1896.39  1687392000000  2023-06-22\n",
       "2023-06-23   1887.99  1687478400000  2023-06-23\n",
       "2023-06-24   1888.94  1687564800000  2023-06-24\n",
       "2023-06-25   1902.01  1687651200000  2023-06-25\n",
       "2023-06-26   1876.42  1687737600000  2023-06-26\n",
       "2023-06-27   1882.13  1687824000000  2023-06-27\n",
       "2023-06-28   1856.97  1687910400000  2023-06-28\n",
       "2023-06-29   1851.31  1687996800000  2023-06-29\n",
       "2023-06-30   1890.38  1688083200000  2023-06-30\n",
       "2023-07-01   1923.05  1688169600000  2023-07-01\n",
       "2023-07-02   1920.81  1688256000000  2023-07-02\n",
       "2023-07-03   1957.73  1688342400000  2023-07-03\n",
       "2023-07-04   1952.77  1688428800000  2023-07-04\n",
       "2023-07-05   1922.58  1688515200000  2023-07-05\n",
       "2023-07-06   1904.61  1688601600000  2023-07-06\n",
       "2023-07-07   1862.84  1688688000000  2023-07-07\n",
       "2023-07-08   1863.94  1688774400000  2023-07-08\n",
       "2023-07-09   1869.85  1688860800000  2023-07-09\n",
       "2023-07-10   1868.81  1688947200000  2023-07-10\n",
       "2023-07-11   1876.74  1689033600000  2023-07-11\n",
       "2023-07-12   1884.46  1689120000000  2023-07-12\n",
       "2023-07-13   1913.22  1689206400000  2023-07-13\n",
       "2023-07-14   1982.11  1689292800000  2023-07-14\n",
       "2023-07-15   1937.07  1689379200000  2023-07-15\n",
       "2023-07-16   1934.23  1689465600000  2023-07-16"
      ]
     },
     "execution_count": 35,
     "metadata": {},
     "output_type": "execute_result"
    }
   ],
   "source": [
    "prediction_df"
   ]
  },
  {
   "cell_type": "code",
   "execution_count": 28,
   "metadata": {},
   "outputs": [
    {
     "data": {
      "text/plain": [
       "array([[1734.13],\n",
       "       [1736.9 ],\n",
       "       [1728.1 ],\n",
       "       [1745.05],\n",
       "       [1836.05],\n",
       "       [1896.39],\n",
       "       [1887.99],\n",
       "       [1888.94],\n",
       "       [1902.01],\n",
       "       [1876.42],\n",
       "       [1882.13],\n",
       "       [1856.97],\n",
       "       [1851.31],\n",
       "       [1890.38],\n",
       "       [1923.05],\n",
       "       [1920.81],\n",
       "       [1957.73],\n",
       "       [1952.77],\n",
       "       [1922.58],\n",
       "       [1904.61],\n",
       "       [1862.84],\n",
       "       [1863.94],\n",
       "       [1869.85],\n",
       "       [1868.81],\n",
       "       [1876.74],\n",
       "       [1884.46],\n",
       "       [1913.22],\n",
       "       [1982.11],\n",
       "       [1937.07],\n",
       "       [1934.23]])"
      ]
     },
     "execution_count": 28,
     "metadata": {},
     "output_type": "execute_result"
    }
   ],
   "source": [
    "X_pred"
   ]
  },
  {
   "cell_type": "code",
   "execution_count": 22,
   "metadata": {},
   "outputs": [],
   "source": [
    "predicted_forecast = svr_rbf.predict(X_pred)"
   ]
  },
  {
   "cell_type": "code",
   "execution_count": 23,
   "metadata": {},
   "outputs": [
    {
     "data": {
      "text/plain": [
       "array([1787.88452243, 1790.41252059, 1782.17850551, 1797.49699254,\n",
       "       1842.040083  , 1861.98630228, 1857.81636216, 1858.25189713,\n",
       "       1865.21388504, 1853.14632455, 1855.31279617, 1847.23733461,\n",
       "       1845.78753222, 1858.92887874, 1881.07096644, 1879.06717263,\n",
       "       1923.53034567, 1916.04615781, 1880.64379097, 1866.83804378,\n",
       "       1848.83672722, 1849.15070099, 1850.93371261, 1850.60711103,\n",
       "       1853.26131569, 1856.27185396, 1872.86186786, 1967.66518633,\n",
       "       1895.54473875, 1892.3331166 ])"
      ]
     },
     "execution_count": 23,
     "metadata": {},
     "output_type": "execute_result"
    }
   ],
   "source": [
    "predicted_forecast"
   ]
  },
  {
   "cell_type": "code",
   "execution_count": 24,
   "metadata": {},
   "outputs": [],
   "source": [
    "import plotly.express as px"
   ]
  },
  {
   "cell_type": "code",
   "execution_count": 29,
   "metadata": {},
   "outputs": [],
   "source": [
    "prediction_df['date'] = pd.to_datetime(prediction_df['date'])"
   ]
  },
  {
   "cell_type": "code",
   "execution_count": 27,
   "metadata": {},
   "outputs": [
    {
     "name": "stdout",
     "output_type": "stream",
     "text": [
      "<class 'pandas.core.frame.DataFrame'>\n",
      "DatetimeIndex: 30 entries, 2023-06-17 to 2023-07-16\n",
      "Data columns (total 3 columns):\n",
      " #   Column    Non-Null Count  Dtype  \n",
      "---  ------    --------------  -----  \n",
      " 0   priceUsd  30 non-null     float64\n",
      " 1   time      30 non-null     int64  \n",
      " 2   date      30 non-null     object \n",
      "dtypes: float64(1), int64(1), object(1)\n",
      "memory usage: 960.0+ bytes\n"
     ]
    }
   ],
   "source": [
    "prediction_df.info()"
   ]
  },
  {
   "cell_type": "code",
   "execution_count": 30,
   "metadata": {},
   "outputs": [],
   "source": [
    "prediction_df['testdate'] = prediction_df['date'] + pd.Timedelta(days=30)"
   ]
  },
  {
   "cell_type": "code",
   "execution_count": 31,
   "metadata": {},
   "outputs": [
    {
     "data": {
      "text/plain": [
       "2023-06-17   2023-07-17\n",
       "2023-06-18   2023-07-18\n",
       "2023-06-19   2023-07-19\n",
       "2023-06-20   2023-07-20\n",
       "2023-06-21   2023-07-21\n",
       "2023-06-22   2023-07-22\n",
       "2023-06-23   2023-07-23\n",
       "2023-06-24   2023-07-24\n",
       "2023-06-25   2023-07-25\n",
       "2023-06-26   2023-07-26\n",
       "2023-06-27   2023-07-27\n",
       "2023-06-28   2023-07-28\n",
       "2023-06-29   2023-07-29\n",
       "2023-06-30   2023-07-30\n",
       "2023-07-01   2023-07-31\n",
       "2023-07-02   2023-08-01\n",
       "2023-07-03   2023-08-02\n",
       "2023-07-04   2023-08-03\n",
       "2023-07-05   2023-08-04\n",
       "2023-07-06   2023-08-05\n",
       "2023-07-07   2023-08-06\n",
       "2023-07-08   2023-08-07\n",
       "2023-07-09   2023-08-08\n",
       "2023-07-10   2023-08-09\n",
       "2023-07-11   2023-08-10\n",
       "2023-07-12   2023-08-11\n",
       "2023-07-13   2023-08-12\n",
       "2023-07-14   2023-08-13\n",
       "2023-07-15   2023-08-14\n",
       "2023-07-16   2023-08-15\n",
       "Name: testdate, dtype: datetime64[ns]"
      ]
     },
     "execution_count": 31,
     "metadata": {},
     "output_type": "execute_result"
    }
   ],
   "source": [
    "prediction_df['testdate']"
   ]
  },
  {
   "cell_type": "code",
   "execution_count": 32,
   "metadata": {},
   "outputs": [
    {
     "data": {
      "application/vnd.plotly.v1+json": {
       "config": {
        "plotlyServerURL": "https://plot.ly"
       },
       "data": [
        {
         "hovertemplate": "x=%{x}<br>y=%{y}<extra></extra>",
         "legendgroup": "",
         "line": {
          "color": "#636efa",
          "dash": "solid"
         },
         "marker": {
          "symbol": "circle"
         },
         "mode": "lines",
         "name": "",
         "orientation": "v",
         "showlegend": false,
         "type": "scatter",
         "x": [
          "2023-07-17T00:00:00",
          "2023-07-18T00:00:00",
          "2023-07-19T00:00:00",
          "2023-07-20T00:00:00",
          "2023-07-21T00:00:00",
          "2023-07-22T00:00:00",
          "2023-07-23T00:00:00",
          "2023-07-24T00:00:00",
          "2023-07-25T00:00:00",
          "2023-07-26T00:00:00",
          "2023-07-27T00:00:00",
          "2023-07-28T00:00:00",
          "2023-07-29T00:00:00",
          "2023-07-30T00:00:00",
          "2023-07-31T00:00:00",
          "2023-08-01T00:00:00",
          "2023-08-02T00:00:00",
          "2023-08-03T00:00:00",
          "2023-08-04T00:00:00",
          "2023-08-05T00:00:00",
          "2023-08-06T00:00:00",
          "2023-08-07T00:00:00",
          "2023-08-08T00:00:00",
          "2023-08-09T00:00:00",
          "2023-08-10T00:00:00",
          "2023-08-11T00:00:00",
          "2023-08-12T00:00:00",
          "2023-08-13T00:00:00",
          "2023-08-14T00:00:00",
          "2023-08-15T00:00:00"
         ],
         "xaxis": "x",
         "y": [
          1787.8845224332983,
          1790.4125205933528,
          1782.1785055084142,
          1797.4969925377472,
          1842.040082996798,
          1861.98630227972,
          1857.8163621615668,
          1858.2518971287195,
          1865.2138850445729,
          1853.146324545049,
          1855.3127961654402,
          1847.2373346136092,
          1845.7875322171797,
          1858.9288787440125,
          1881.0709664434341,
          1879.0671726306982,
          1923.530345665028,
          1916.046157810289,
          1880.6437909742583,
          1866.8380437785713,
          1848.8367272211588,
          1849.1507009908414,
          1850.9337126063374,
          1850.6071110334024,
          1853.261315692914,
          1856.2718539585285,
          1872.8618678554228,
          1967.6651863283776,
          1895.5447387520485,
          1892.3331166026392
         ],
         "yaxis": "y"
        }
       ],
       "layout": {
        "legend": {
         "tracegroupgap": 0
        },
        "margin": {
         "t": 60
        },
        "template": {
         "data": {
          "bar": [
           {
            "error_x": {
             "color": "#2a3f5f"
            },
            "error_y": {
             "color": "#2a3f5f"
            },
            "marker": {
             "line": {
              "color": "#E5ECF6",
              "width": 0.5
             },
             "pattern": {
              "fillmode": "overlay",
              "size": 10,
              "solidity": 0.2
             }
            },
            "type": "bar"
           }
          ],
          "barpolar": [
           {
            "marker": {
             "line": {
              "color": "#E5ECF6",
              "width": 0.5
             },
             "pattern": {
              "fillmode": "overlay",
              "size": 10,
              "solidity": 0.2
             }
            },
            "type": "barpolar"
           }
          ],
          "carpet": [
           {
            "aaxis": {
             "endlinecolor": "#2a3f5f",
             "gridcolor": "white",
             "linecolor": "white",
             "minorgridcolor": "white",
             "startlinecolor": "#2a3f5f"
            },
            "baxis": {
             "endlinecolor": "#2a3f5f",
             "gridcolor": "white",
             "linecolor": "white",
             "minorgridcolor": "white",
             "startlinecolor": "#2a3f5f"
            },
            "type": "carpet"
           }
          ],
          "choropleth": [
           {
            "colorbar": {
             "outlinewidth": 0,
             "ticks": ""
            },
            "type": "choropleth"
           }
          ],
          "contour": [
           {
            "colorbar": {
             "outlinewidth": 0,
             "ticks": ""
            },
            "colorscale": [
             [
              0,
              "#0d0887"
             ],
             [
              0.1111111111111111,
              "#46039f"
             ],
             [
              0.2222222222222222,
              "#7201a8"
             ],
             [
              0.3333333333333333,
              "#9c179e"
             ],
             [
              0.4444444444444444,
              "#bd3786"
             ],
             [
              0.5555555555555556,
              "#d8576b"
             ],
             [
              0.6666666666666666,
              "#ed7953"
             ],
             [
              0.7777777777777778,
              "#fb9f3a"
             ],
             [
              0.8888888888888888,
              "#fdca26"
             ],
             [
              1,
              "#f0f921"
             ]
            ],
            "type": "contour"
           }
          ],
          "contourcarpet": [
           {
            "colorbar": {
             "outlinewidth": 0,
             "ticks": ""
            },
            "type": "contourcarpet"
           }
          ],
          "heatmap": [
           {
            "colorbar": {
             "outlinewidth": 0,
             "ticks": ""
            },
            "colorscale": [
             [
              0,
              "#0d0887"
             ],
             [
              0.1111111111111111,
              "#46039f"
             ],
             [
              0.2222222222222222,
              "#7201a8"
             ],
             [
              0.3333333333333333,
              "#9c179e"
             ],
             [
              0.4444444444444444,
              "#bd3786"
             ],
             [
              0.5555555555555556,
              "#d8576b"
             ],
             [
              0.6666666666666666,
              "#ed7953"
             ],
             [
              0.7777777777777778,
              "#fb9f3a"
             ],
             [
              0.8888888888888888,
              "#fdca26"
             ],
             [
              1,
              "#f0f921"
             ]
            ],
            "type": "heatmap"
           }
          ],
          "heatmapgl": [
           {
            "colorbar": {
             "outlinewidth": 0,
             "ticks": ""
            },
            "colorscale": [
             [
              0,
              "#0d0887"
             ],
             [
              0.1111111111111111,
              "#46039f"
             ],
             [
              0.2222222222222222,
              "#7201a8"
             ],
             [
              0.3333333333333333,
              "#9c179e"
             ],
             [
              0.4444444444444444,
              "#bd3786"
             ],
             [
              0.5555555555555556,
              "#d8576b"
             ],
             [
              0.6666666666666666,
              "#ed7953"
             ],
             [
              0.7777777777777778,
              "#fb9f3a"
             ],
             [
              0.8888888888888888,
              "#fdca26"
             ],
             [
              1,
              "#f0f921"
             ]
            ],
            "type": "heatmapgl"
           }
          ],
          "histogram": [
           {
            "marker": {
             "pattern": {
              "fillmode": "overlay",
              "size": 10,
              "solidity": 0.2
             }
            },
            "type": "histogram"
           }
          ],
          "histogram2d": [
           {
            "colorbar": {
             "outlinewidth": 0,
             "ticks": ""
            },
            "colorscale": [
             [
              0,
              "#0d0887"
             ],
             [
              0.1111111111111111,
              "#46039f"
             ],
             [
              0.2222222222222222,
              "#7201a8"
             ],
             [
              0.3333333333333333,
              "#9c179e"
             ],
             [
              0.4444444444444444,
              "#bd3786"
             ],
             [
              0.5555555555555556,
              "#d8576b"
             ],
             [
              0.6666666666666666,
              "#ed7953"
             ],
             [
              0.7777777777777778,
              "#fb9f3a"
             ],
             [
              0.8888888888888888,
              "#fdca26"
             ],
             [
              1,
              "#f0f921"
             ]
            ],
            "type": "histogram2d"
           }
          ],
          "histogram2dcontour": [
           {
            "colorbar": {
             "outlinewidth": 0,
             "ticks": ""
            },
            "colorscale": [
             [
              0,
              "#0d0887"
             ],
             [
              0.1111111111111111,
              "#46039f"
             ],
             [
              0.2222222222222222,
              "#7201a8"
             ],
             [
              0.3333333333333333,
              "#9c179e"
             ],
             [
              0.4444444444444444,
              "#bd3786"
             ],
             [
              0.5555555555555556,
              "#d8576b"
             ],
             [
              0.6666666666666666,
              "#ed7953"
             ],
             [
              0.7777777777777778,
              "#fb9f3a"
             ],
             [
              0.8888888888888888,
              "#fdca26"
             ],
             [
              1,
              "#f0f921"
             ]
            ],
            "type": "histogram2dcontour"
           }
          ],
          "mesh3d": [
           {
            "colorbar": {
             "outlinewidth": 0,
             "ticks": ""
            },
            "type": "mesh3d"
           }
          ],
          "parcoords": [
           {
            "line": {
             "colorbar": {
              "outlinewidth": 0,
              "ticks": ""
             }
            },
            "type": "parcoords"
           }
          ],
          "pie": [
           {
            "automargin": true,
            "type": "pie"
           }
          ],
          "scatter": [
           {
            "fillpattern": {
             "fillmode": "overlay",
             "size": 10,
             "solidity": 0.2
            },
            "type": "scatter"
           }
          ],
          "scatter3d": [
           {
            "line": {
             "colorbar": {
              "outlinewidth": 0,
              "ticks": ""
             }
            },
            "marker": {
             "colorbar": {
              "outlinewidth": 0,
              "ticks": ""
             }
            },
            "type": "scatter3d"
           }
          ],
          "scattercarpet": [
           {
            "marker": {
             "colorbar": {
              "outlinewidth": 0,
              "ticks": ""
             }
            },
            "type": "scattercarpet"
           }
          ],
          "scattergeo": [
           {
            "marker": {
             "colorbar": {
              "outlinewidth": 0,
              "ticks": ""
             }
            },
            "type": "scattergeo"
           }
          ],
          "scattergl": [
           {
            "marker": {
             "colorbar": {
              "outlinewidth": 0,
              "ticks": ""
             }
            },
            "type": "scattergl"
           }
          ],
          "scattermapbox": [
           {
            "marker": {
             "colorbar": {
              "outlinewidth": 0,
              "ticks": ""
             }
            },
            "type": "scattermapbox"
           }
          ],
          "scatterpolar": [
           {
            "marker": {
             "colorbar": {
              "outlinewidth": 0,
              "ticks": ""
             }
            },
            "type": "scatterpolar"
           }
          ],
          "scatterpolargl": [
           {
            "marker": {
             "colorbar": {
              "outlinewidth": 0,
              "ticks": ""
             }
            },
            "type": "scatterpolargl"
           }
          ],
          "scatterternary": [
           {
            "marker": {
             "colorbar": {
              "outlinewidth": 0,
              "ticks": ""
             }
            },
            "type": "scatterternary"
           }
          ],
          "surface": [
           {
            "colorbar": {
             "outlinewidth": 0,
             "ticks": ""
            },
            "colorscale": [
             [
              0,
              "#0d0887"
             ],
             [
              0.1111111111111111,
              "#46039f"
             ],
             [
              0.2222222222222222,
              "#7201a8"
             ],
             [
              0.3333333333333333,
              "#9c179e"
             ],
             [
              0.4444444444444444,
              "#bd3786"
             ],
             [
              0.5555555555555556,
              "#d8576b"
             ],
             [
              0.6666666666666666,
              "#ed7953"
             ],
             [
              0.7777777777777778,
              "#fb9f3a"
             ],
             [
              0.8888888888888888,
              "#fdca26"
             ],
             [
              1,
              "#f0f921"
             ]
            ],
            "type": "surface"
           }
          ],
          "table": [
           {
            "cells": {
             "fill": {
              "color": "#EBF0F8"
             },
             "line": {
              "color": "white"
             }
            },
            "header": {
             "fill": {
              "color": "#C8D4E3"
             },
             "line": {
              "color": "white"
             }
            },
            "type": "table"
           }
          ]
         },
         "layout": {
          "annotationdefaults": {
           "arrowcolor": "#2a3f5f",
           "arrowhead": 0,
           "arrowwidth": 1
          },
          "autotypenumbers": "strict",
          "coloraxis": {
           "colorbar": {
            "outlinewidth": 0,
            "ticks": ""
           }
          },
          "colorscale": {
           "diverging": [
            [
             0,
             "#8e0152"
            ],
            [
             0.1,
             "#c51b7d"
            ],
            [
             0.2,
             "#de77ae"
            ],
            [
             0.3,
             "#f1b6da"
            ],
            [
             0.4,
             "#fde0ef"
            ],
            [
             0.5,
             "#f7f7f7"
            ],
            [
             0.6,
             "#e6f5d0"
            ],
            [
             0.7,
             "#b8e186"
            ],
            [
             0.8,
             "#7fbc41"
            ],
            [
             0.9,
             "#4d9221"
            ],
            [
             1,
             "#276419"
            ]
           ],
           "sequential": [
            [
             0,
             "#0d0887"
            ],
            [
             0.1111111111111111,
             "#46039f"
            ],
            [
             0.2222222222222222,
             "#7201a8"
            ],
            [
             0.3333333333333333,
             "#9c179e"
            ],
            [
             0.4444444444444444,
             "#bd3786"
            ],
            [
             0.5555555555555556,
             "#d8576b"
            ],
            [
             0.6666666666666666,
             "#ed7953"
            ],
            [
             0.7777777777777778,
             "#fb9f3a"
            ],
            [
             0.8888888888888888,
             "#fdca26"
            ],
            [
             1,
             "#f0f921"
            ]
           ],
           "sequentialminus": [
            [
             0,
             "#0d0887"
            ],
            [
             0.1111111111111111,
             "#46039f"
            ],
            [
             0.2222222222222222,
             "#7201a8"
            ],
            [
             0.3333333333333333,
             "#9c179e"
            ],
            [
             0.4444444444444444,
             "#bd3786"
            ],
            [
             0.5555555555555556,
             "#d8576b"
            ],
            [
             0.6666666666666666,
             "#ed7953"
            ],
            [
             0.7777777777777778,
             "#fb9f3a"
            ],
            [
             0.8888888888888888,
             "#fdca26"
            ],
            [
             1,
             "#f0f921"
            ]
           ]
          },
          "colorway": [
           "#636efa",
           "#EF553B",
           "#00cc96",
           "#ab63fa",
           "#FFA15A",
           "#19d3f3",
           "#FF6692",
           "#B6E880",
           "#FF97FF",
           "#FECB52"
          ],
          "font": {
           "color": "#2a3f5f"
          },
          "geo": {
           "bgcolor": "white",
           "lakecolor": "white",
           "landcolor": "#E5ECF6",
           "showlakes": true,
           "showland": true,
           "subunitcolor": "white"
          },
          "hoverlabel": {
           "align": "left"
          },
          "hovermode": "closest",
          "mapbox": {
           "style": "light"
          },
          "paper_bgcolor": "white",
          "plot_bgcolor": "#E5ECF6",
          "polar": {
           "angularaxis": {
            "gridcolor": "white",
            "linecolor": "white",
            "ticks": ""
           },
           "bgcolor": "#E5ECF6",
           "radialaxis": {
            "gridcolor": "white",
            "linecolor": "white",
            "ticks": ""
           }
          },
          "scene": {
           "xaxis": {
            "backgroundcolor": "#E5ECF6",
            "gridcolor": "white",
            "gridwidth": 2,
            "linecolor": "white",
            "showbackground": true,
            "ticks": "",
            "zerolinecolor": "white"
           },
           "yaxis": {
            "backgroundcolor": "#E5ECF6",
            "gridcolor": "white",
            "gridwidth": 2,
            "linecolor": "white",
            "showbackground": true,
            "ticks": "",
            "zerolinecolor": "white"
           },
           "zaxis": {
            "backgroundcolor": "#E5ECF6",
            "gridcolor": "white",
            "gridwidth": 2,
            "linecolor": "white",
            "showbackground": true,
            "ticks": "",
            "zerolinecolor": "white"
           }
          },
          "shapedefaults": {
           "line": {
            "color": "#2a3f5f"
           }
          },
          "ternary": {
           "aaxis": {
            "gridcolor": "white",
            "linecolor": "white",
            "ticks": ""
           },
           "baxis": {
            "gridcolor": "white",
            "linecolor": "white",
            "ticks": ""
           },
           "bgcolor": "#E5ECF6",
           "caxis": {
            "gridcolor": "white",
            "linecolor": "white",
            "ticks": ""
           }
          },
          "title": {
           "x": 0.05
          },
          "xaxis": {
           "automargin": true,
           "gridcolor": "white",
           "linecolor": "white",
           "ticks": "",
           "title": {
            "standoff": 15
           },
           "zerolinecolor": "white",
           "zerolinewidth": 2
          },
          "yaxis": {
           "automargin": true,
           "gridcolor": "white",
           "linecolor": "white",
           "ticks": "",
           "title": {
            "standoff": 15
           },
           "zerolinecolor": "white",
           "zerolinewidth": 2
          }
         }
        },
        "xaxis": {
         "anchor": "y",
         "domain": [
          0,
          1
         ],
         "title": {
          "text": "x"
         }
        },
        "yaxis": {
         "anchor": "x",
         "domain": [
          0,
          1
         ],
         "title": {
          "text": "y"
         }
        }
       }
      }
     },
     "metadata": {},
     "output_type": "display_data"
    }
   ],
   "source": [
    "px.line(x=prediction_df['testdate'], y=predicted_forecast)"
   ]
  },
  {
   "cell_type": "code",
   "execution_count": 154,
   "metadata": {},
   "outputs": [
    {
     "data": {
      "text/plain": [
       "((2107, 1), (2107,))"
      ]
     },
     "execution_count": 154,
     "metadata": {},
     "output_type": "execute_result"
    }
   ],
   "source": [
    "x_train.shape, y_train.shape"
   ]
  },
  {
   "cell_type": "code",
   "execution_count": 26,
   "metadata": {},
   "outputs": [
    {
     "data": {
      "text/plain": [
       "2016-03-15    2016-03-15\n",
       "2016-03-16    2016-03-16\n",
       "2016-03-17    2016-03-17\n",
       "2016-03-18    2016-03-18\n",
       "2016-03-19    2016-03-19\n",
       "                 ...    \n",
       "2023-06-12    2023-06-12\n",
       "2023-06-13    2023-06-13\n",
       "2023-06-14    2023-06-14\n",
       "2023-06-15    2023-06-15\n",
       "2023-06-16    2023-06-16\n",
       "Name: date, Length: 2646, dtype: object"
      ]
     },
     "execution_count": 26,
     "metadata": {},
     "output_type": "execute_result"
    }
   ],
   "source": [
    "df['date']"
   ]
  },
  {
   "cell_type": "code",
   "execution_count": 155,
   "metadata": {},
   "outputs": [
    {
     "name": "stdout",
     "output_type": "stream",
     "text": [
      "[ 931.14  136.97  182.27 1492.73   94.44 1967.19  165.36 1799.83  347.15\n",
      "  242.33    7.64  456.05  121.94  311.6    11.61 3439.14  148.85  295.91\n",
      "  218.61   13.12  239.84 3084.05  198.96 1566.49  436.07  326.34   10.39\n",
      " 1853.7   245.78 1653.84 1735.7   258.2     9.59  356.8  3116.76 1227.18\n",
      "   49.67  173.41 4286.11  162.6   222.82 3804.18 1568.73  170.43   13.83\n",
      " 1778.87  237.33  137.42  168.58 1486.6  1809.59 2234.59   44.02   13.1\n",
      " 1896.88  742.06 1195.1   233.28   11.26 1074.93  105.25 3540.34 1571.19\n",
      "  685.5    10.56 4367.04  618.35   11.   2000.47    8.53  118.57  483.64\n",
      "  136.48 2124.65  268.06 2037.31   28.45   13.83  467.54  214.67  131.79\n",
      "    7.88  321.12   10.15 1883.   1283.03  199.51 3258.76 4365.8   523.15\n",
      "  142.42  163.03  701.98  867.55 3253.01 3253.35   13.11 1360.13   11.08\n",
      " 1327.54    8.43  338.94  395.09  270.31 1281.34  122.7  4742.42    9.61\n",
      "  323.45 2972.39   91.05  521.53    9.85  180.79  345.88  121.29 3773.64\n",
      "  239.66 1848.77   10.47 1939.15 3339.01  177.09  295.68  387.27 1557.96\n",
      "  150.9   723.68 1072.26 3328.84  212.6     9.82  603.25  221.37  624.16\n",
      " 1210.83  238.65  210.45   49.32  195.06 1217.7   683.44  166.65  218.05\n",
      "  125.07  617.41 1860.83  357.71 4178.94 4187.35  660.23   18.18 3594.85\n",
      " 2360.84  131.35  224.96  179.87  293.68 4692.1   238.82  127.66  232.55\n",
      "  132.41  180.76  195.7  1122.59 2522.09  597.04   13.05 3690.87  122.89\n",
      " 1273.15 1331.38  203.79 1196.25  465.47   11.12 1498.84   43.8  1329.47\n",
      " 1522.79  236.82    7.19 1228.93  218.64 1583.81 3893.91 1814.65   12.02\n",
      "  542.93  169.17 1310.61   12.46  202.2   126.96 1194.9   207.83   13.19\n",
      " 3296.01  347.48  252.51 2897.26 1793.84   14.07  410.18 1174.17  300.95\n",
      "  220.98 1560.48 1792.91  252.67  302.71   11.89  139.55  191.01   11.06\n",
      "  300.8  1046.59 1900.65  718.22   14.57  306.95  240.95 1608.75  611.78\n",
      "   10.91  475.85  823.23  361.23 1217.3  1258.22 3412.69 1915.2  2296.35\n",
      "  357.14   12.07  238.31  394.03 1755.35  226.4   679.75  607.49 1629.54\n",
      "  137.39  293.93  181.43  579.16 3031.7   208.15  134.   3342.47  126.62\n",
      "  228.6   357.92  176.14  550.37  162.39 1647.29 1855.68 4329.92  184.4\n",
      "  411.71  366.52 1290.18  304.58 1223.59  856.9    10.58  292.72 3909.54\n",
      "  260.67 1137.13 1137.87   17.38  170.82  201.12 1338.09  253.45  293.88\n",
      " 2148.95 3122.66  263.25  473.61 3326.16  356.32   11.34 2693.95 1294.73\n",
      " 1971.54  143.22 1323.42 1315.82  309.07 1891.03 1855.47  117.13 1842.35\n",
      "   84.92  715.67  227.25 1322.9  4161.02 1817.17 4203.79  115.38  356.69\n",
      "   11.29 1803.06   11.54  290.6   203.12  203.29   10.67 1643.55    9.45\n",
      " 1240.86 2816.68  243.48    9.57  227.19 3211.98 3304.72 2573.11  196.88\n",
      "  322.85 3027.71  407.88 1614.5   367.29 1845.78  388.94  383.7  3211.69\n",
      " 1580.76  226.85 2392.54  749.61  528.07 3013.61  189.49 4359.52  384.47\n",
      "  169.9  4359.66 1144.56  174.98 1105.53 1696.22  149.37  203.11 1194.43\n",
      " 1056.51 4077.24 1580.52  504.35  675.58  320.63   10.08 1547.95 1182.66\n",
      "  289.87 1605.24  189.68 3339.9   783.22 1821.77  295.3   138.5    50.84\n",
      "  212.16  128.12  218.68 3045.83  443.85  298.85 1215.92 3516.68 1117.97\n",
      "  277.56 2786.43 3814.85  317.48  301.63  172.99 2899.4  1263.64   10.48\n",
      "  412.6   173.66  295.93 1364.78 3438.66  106.53  159.18  138.71 1823.62\n",
      "  562.47  187.73  389.34 3273.64  299.52    8.1  4215.8   134.69 3261.69\n",
      "  202.94   10.49  237.84   50.35  286.01 3010.99   14.69 1597.22 4100.03\n",
      "  167.5  2663.83   11.55 3574.9   301.45   11.52  420.85  312.68  154.24\n",
      " 1787.35  380.78  171.86 1812.89 3499.6  1271.85  198.77   12.79  806.98\n",
      "  117.49 1594.7   445.64   12.77 2793.44    7.22    8.4   437.8   300.18\n",
      "   30.17  445.4  3100.24  656.35  125.13  187.89 1776.84   11.22   86.79\n",
      "  163.67   84.37 3130.48  439.62 2139.11  224.73 1065.51  503.33 3838.59\n",
      "  603.2  1823.56 1680.96  237.4  4086.85  138.22    7.64 1061.55  157.61\n",
      " 1606.93    7.99  121.5  1345.67 1555.78   10.07  475.17   11.69   10.47\n",
      " 3971.48  745.21  131.02   10.62   11.99   17.3  1281.63   12.91  267.51\n",
      "  361.02  325.58 2099.55   19.59 1183.33  317.9    14.33  129.59 3221.55\n",
      "  104.87  180.26 1319.83  386.91   92.49  669.72  211.51  187.99  196.42\n",
      "   95.06  320.01   50.5   311.45   18.34   13.4  2365.05 2951.98 1756.92\n",
      "  297.74  245.66  225.8   621.96 1871.2  1999.64 3069.03  220.52  182.39\n",
      " 3482.26 3433.68  335.86 1228.17  192.52]\n"
     ]
    }
   ],
   "source": [
    "print(y_test)"
   ]
  },
  {
   "cell_type": "code",
   "execution_count": 165,
   "metadata": {},
   "outputs": [
    {
     "data": {
      "text/plain": [
       "((2634, 1), (527,), (2634, 1))"
      ]
     },
     "execution_count": 165,
     "metadata": {},
     "output_type": "execute_result"
    }
   ],
   "source": [
    "z.shape, svm_prediction.shape, X.shape"
   ]
  },
  {
   "cell_type": "code",
   "execution_count": 156,
   "metadata": {},
   "outputs": [
    {
     "data": {
      "image/png": "[encoded data removed]",
      "text/plain": [
       "<Figure size 1200x400 with 1 Axes>"
      ]
     },
     "metadata": {},
     "output_type": "display_data"
    }
   ],
   "source": [
    "plt.figure(figsize=(12,4))\n",
    "plt.plot(svm_prediction, label='Prediction', lw=2, alpha=0.2)\n",
    "plt.plot(y_test, label='Actual', lw=2, alpha=0.7)\n",
    "plt.title(\"Prediction vs Actual\")\n",
    "plt.ylabel(\"price\")\n",
    "plt.xlabel(\"time\")\n",
    "plt.legend()\n",
    "plt.show()"
   ]
  }
 ],
 "metadata": {
  "kernelspec": {
   "display_name": "venv",
   "language": "python",
   "name": "python3"
  },
  "language_info": {
   "codemirror_mode": {
    "name": "ipython",
    "version": 3
   },
   "file_extension": ".py",
   "mimetype": "text/x-python",
   "name": "python",
   "nbconvert_exporter": "python",
   "pygments_lexer": "ipython3",
   "version": "3.9.5"
  },
  "orig_nbformat": 4
 },
 "nbformat": 4,
 "nbformat_minor": 2
}
